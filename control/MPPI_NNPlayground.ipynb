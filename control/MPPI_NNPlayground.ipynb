{
 "cells": [
  {
   "cell_type": "code",
   "execution_count": null,
   "id": "8fd998a4",
   "metadata": {},
   "outputs": [],
   "source": [
    "import sys\n",
    "sys.path.append(\"..\")\n",
    "\n",
    "from \n",
    "import numpy as np\n",
    "import time\n",
    "import matplotlib.pyplot as plt\n",
    "from time import perf_counter\n",
    "from scipy.integrate import odeint\n",
    "import os\n",
    "from pathlib import Path\n",
    "\n",
    "plt.style.use([\"science\", \"grid\"])"
   ]
  },
  {
   "cell_type": "code",
   "execution_count": null,
   "id": "7cc16655",
   "metadata": {},
   "outputs": [],
   "source": [
    "import tensorflow as tf"
   ]
  },
  {
   "cell_type": "markdown",
   "id": "814a3ea2",
   "metadata": {},
   "source": [
    "# Inverted pendulum\n",
    "Try MPPI controller with neural network dynamics model on an inverted pendulum."
   ]
  },
  {
   "cell_type": "code",
   "execution_count": null,
   "id": "927e7bb7",
   "metadata": {},
   "outputs": [],
   "source": [
    "from systems.dynamical_systems import Pendulum"
   ]
  },
  {
   "cell_type": "code",
   "execution_count": null,
   "id": "25c52b2a",
   "metadata": {},
   "outputs": [],
   "source": [
    "# Get neural network model loaded\n",
    "model_path = Path(os.getcwd()).parent / \"neural_networks\" / \"pendulum\" / \"models\"\n",
    "availible_models = [x for x in model_path.iterdir() if x.is_dir()]\n",
    "\n",
    "for (i, model_name) in enumerate(availible_models):\n",
    "    print(\"[{}]  {}\".format(i, model_name))\n",
    "\n",
    "idx = int(input(\"Select which model number to load: \"))\n",
    "nn_model = tf.keras.models.load_model(availible_models[idx])"
   ]
  },
  {
   "cell_type": "code",
   "execution_count": null,
   "id": "26e78db0",
   "metadata": {},
   "outputs": [],
   "source": [
    "dt = 1 / 10\n",
    "\n",
    "pend_env = Pendulum(m=1, l=1, b=0.1, dt=1 / 10)\n",
    "\n",
    "def nn_next_state(nn_input):\n",
    "    states, controls = nn_input[:, :pend_env.nx], nn_input[:, pend_env.nx:]\n",
    "    x_ddots = nn_model(nn_input)\n",
    "    \n",
    "    x_dots = states[:, 1::2]\n",
    "    \n",
    "    next_states = states\n",
    "    next_states[:, ::2] += x_dots * dt + 1/2 * x_ddots * (dt ** 2)\n",
    "    next_states[:, 1::2] += x_ddots * dt\n",
    "    \n",
    "    return next_states"
   ]
  },
  {
   "cell_type": "markdown",
   "id": "cdb7c576",
   "metadata": {},
   "source": [
    "## Neural Network vs. Ground Truth (Natural Dynamics)\n",
    "Test the neural network dynamics model with the natural dynamics of the system before using it in the controller"
   ]
  },
  {
   "cell_type": "code",
   "execution_count": null,
   "id": "147abdad",
   "metadata": {},
   "outputs": [],
   "source": [
    "# Test the neural network dynamics on the system's natural dynamics\n",
    "\n",
    "initial_state = np.array([np.radians(80), 0])\n",
    "\n",
    "nn_current_state = initial_state\n",
    "truth_current_state = initial_state\n",
    "action = np.array([0])\n",
    "\n",
    "simulation_length = 5\n",
    "n_steps = int((1 / dt) * simulation_length)\n",
    "\n",
    "# Simulate the pendulum\n",
    "nn_states = np.empty((n_steps, 2))\n",
    "truth_states = np.empty((n_steps, 2))\n",
    "\n",
    "for i in range(n_steps):\n",
    "    nn_states[i] = nn_current_state\n",
    "    truth_states[i] = truth_current_state\n",
    "    \n",
    "    nn_input = np.hstack((nn_current_state, action)).reshape(1, -1)\n",
    "    nn_current_state = nn_next_state(nn_input)[0]\n",
    "    \n",
    "    truth_current_state = pend_env.simulator(truth_current_state, action)"
   ]
  },
  {
   "cell_type": "code",
   "execution_count": null,
   "id": "83858432",
   "metadata": {},
   "outputs": [],
   "source": [
    "# Plot the simulated response\n",
    "\n",
    "time = np.linspace(0, simulation_length, n_steps)\n",
    "\n",
    "fig, ax = plt.subplots(1, 1, figsize=(6, 3))\n",
    "fig.suptitle(\"Inverted Pendulum Simulated Response\")\n",
    "\n",
    "ax.plot(time, nn_states[:, 0], label=\"NN theta\")\n",
    "ax.plot(time, truth_states[:, 0], label=\"True theta\")\n",
    "# ax.plot(time, truth_states[:, 1], label=\"True omega\")\n",
    "\n",
    "\n",
    "ax.set(xlabel=\"Time (s)\", ylabel=\"Theta (rad)\")\n",
    "# ax.set_ylim([-np.pi-0.3, np.pi+0.3])\n",
    "ax.legend()\n",
    "\n",
    "fig.savefig(\"nn_vs_true_theta_iv.png\")"
   ]
  },
  {
   "cell_type": "markdown",
   "id": "cfe0e08b",
   "metadata": {},
   "source": [
    "## MPPI Swing Up Task\n",
    "Test the MPPI controller on a swing-up task using the neural network dynamics model for rollouts."
   ]
  },
  {
   "cell_type": "code",
   "execution_count": null,
   "id": "11de1fb9",
   "metadata": {},
   "outputs": [],
   "source": [
    "simulation_length = 15  # s\n",
    "n_steps = int((1 / dt) * simulation_length)\n",
    "\n",
    "# Create lists to store control sequence and state sequences for MPPI runs\n",
    "controls, states = np.empty((n_steps, inv_pend_env.nu)), np.empty((n_steps, inv_pend_env.nx))\n",
    "\n",
    "# Begin simulation\n",
    "current_state = inv_pend_env.initial_state\n",
    "start_time = perf_counter()\n",
    "\n",
    "for i in range(0, n_steps):\n",
    "    action = inv_pend_env.controller.step(current_state)\n",
    "    current_state = inv_pend_env.simulator(current_state, action, measurement_noise=False)\n",
    "    current_state[0] %= (2 * np.pi)\n",
    "    \n",
    "    states[i] = current_state\n",
    "    controls[i] = action\n",
    "\n",
    "print(\"Elapsed time: {:.5f} s\".format(perf_counter() - start_time))"
   ]
  },
  {
   "cell_type": "code",
   "execution_count": null,
   "id": "6d69e10f",
   "metadata": {
    "scrolled": false
   },
   "outputs": [],
   "source": [
    "# Plot the results\n",
    "fig, (ax1, ax2) = plt.subplots(1, 2, figsize=(12, 4))\n",
    "\n",
    "fig.suptitle(\"MPPI Inverted Pendulum Swing Up Task (NN Dynamics)\")\n",
    "\n",
    "time = np.linspace(0, simulation_length, n_steps)\n",
    "\n",
    "ax1.set_title(\"Pendulum Angle vs. Time\")\n",
    "ax1.plot(time, states[:, 0], label=\"Theta\")\n",
    "ax1.plot(time, np.repeat(inv_pend_env.desired_state[0], n_steps), label=\"Desired theta\")\n",
    "ax1.set(xlabel=\"Time (s)\", ylabel=\"Theta (rad)\")\n",
    "# ax1.set_ylim([-np.pi-0.3, np.pi+0.3])\n",
    "ax1.legend()\n",
    "\n",
    "ax2.set_title(\"Input Torque vs. Time\")\n",
    "ax2.plot(time, controls[:, 0], label=\"Input torque\")\n",
    "ax2.set(xlabel=\"Time (s)\", ylabel=\"Torque (Nm)\")\n",
    "\n",
    "fig.savefig(\"swingup_task.png\")"
   ]
  },
  {
   "cell_type": "markdown",
   "id": "87bab88b",
   "metadata": {},
   "source": [
    "## Online Learning Example\n",
    "Let's change the inertial properties of the inverted pendulum system and continuously train the dynamics model on newly collected data."
   ]
  },
  {
   "cell_type": "code",
   "execution_count": null,
   "id": "62f5cba0",
   "metadata": {},
   "outputs": [],
   "source": [
    "dt = 1 / 10\n",
    "\n",
    "inv_pend_env = InvertedPendulum(\n",
    "    initial_state=np.array([0, 0]),\n",
    "    m=0.5,     # kg\n",
    "    l=0.5,     # m\n",
    "    b=0.1,   # ?\n",
    "    g=-9.81, # m / s^2\n",
    "    dt=dt    # s\n",
    ")\n",
    "\n",
    "inv_pend_env.desired_state = np.array([np.radians(180), 0])"
   ]
  },
  {
   "cell_type": "code",
   "execution_count": null,
   "id": "39eed3a2",
   "metadata": {},
   "outputs": [],
   "source": [
    "# Set up simulation parameters\n",
    "simulation_length = 24  # s\n",
    "n_steps = int((1 / dt) * simulation_length)\n",
    "\n",
    "# Create lists to store control sequence and state sequences for MPPI runs\n",
    "controls, states = np.empty((n_steps, inv_pend_env.nu)), np.empty((n_steps, inv_pend_env.nx))\n",
    "\n",
    "# Set up online learning parameters\n",
    "online_lr = 0.01\n",
    "retrain_iters = 1\n",
    "\n",
    "nn_model = tf.keras.models.load_model(availible_models[idx])\n",
    "\n",
    "def train_online(x, y):\n",
    "    nn_model.fit(\n",
    "        x, y, verbose=0,\n",
    "        epochs=1, batch_size=len(x)\n",
    "    )\n",
    "\n",
    "def init_new_data():\n",
    "    new_examples = np.empty((retrain_iters, inv_pend_env.nx + inv_pend_env.nu))\n",
    "    new_labels = np.empty((retrain_iters, inv_pend_env.nx // 2))\n",
    "    \n",
    "    return new_examples, new_labels\n",
    "\n",
    "def label_from_states(prev_state, curr_state):\n",
    "    acceleration = (curr_state[inv_pend_env.nx // 2:] - prev_state[inv_pend_env.nx // 2:]) / inv_pend_env.dt\n",
    "    return acceleration\n",
    "\n",
    "new_examples, new_labels = init_new_data()\n",
    "tf.keras.backend.set_value(nn_model.optimizer.learning_rate, online_lr)\n",
    "\n",
    "# Begin simulation\n",
    "current_state = inv_pend_env.initial_state\n",
    "start_time = perf_counter()\n",
    "\n",
    "for i in range(0, n_steps):\n",
    "    prev_state = current_state\n",
    "    action = inv_pend_env.controller.step(current_state)\n",
    "    current_state = inv_pend_env.simulator(current_state, action, measurement_noise=False)\n",
    "    current_state[0] %= (2 * np.pi)\n",
    "    \n",
    "    states[i] = current_state\n",
    "    controls[i] = action\n",
    "    \n",
    "    new_examples[i % retrain_iters] = np.hstack((prev_state, action))\n",
    "    new_labels[i % retrain_iters] = label_from_states(prev_state, current_state)\n",
    "    \n",
    "    # Retrain if current time step is a retrain step\n",
    "    if i % retrain_iters == 0 and i > 0:\n",
    "        train_online(new_examples, new_labels)\n",
    "        new_examples, new_labels = init_new_data()\n",
    "        \n",
    "\n",
    "print(\"Elapsed time: {:.5f} s\".format(perf_counter() - start_time))"
   ]
  },
  {
   "cell_type": "code",
   "execution_count": null,
   "id": "c001aa81",
   "metadata": {},
   "outputs": [],
   "source": [
    "# Plot the results\n",
    "fig, (ax1, ax2) = plt.subplots(1, 2, figsize=(12, 4))\n",
    "\n",
    "fig.suptitle(\"MPPI Inverted Pendulum Swing Up Task (Online Learning NN Dynamics)\")\n",
    "\n",
    "time = np.linspace(0, simulation_length, n_steps)\n",
    "\n",
    "ax1.set_title(\"Pendulum Angle vs. Time\")\n",
    "ax1.plot(time, states[:, 0], label=\"Theta\")\n",
    "ax1.plot(time, np.repeat(inv_pend_env.desired_state[0], n_steps), label=\"Desired theta\")\n",
    "ax1.set(xlabel=\"Time (s)\", ylabel=\"Theta (rad)\")\n",
    "ax1.legend()\n",
    "\n",
    "ax2.set_title(\"Input Torque vs. Time\")\n",
    "ax2.plot(time, controls[:, 0], label=\"Input torque\")\n",
    "ax2.set(xlabel=\"Time (s)\", ylabel=\"Torque (Nm)\")\n",
    "\n",
    "fig.savefig(\"swingup_task_oll.png\")"
   ]
  },
  {
   "cell_type": "code",
   "execution_count": null,
   "id": "506ca118",
   "metadata": {},
   "outputs": [],
   "source": []
  }
 ],
 "metadata": {
  "kernelspec": {
   "display_name": "Python 3 (ipykernel)",
   "language": "python",
   "name": "python3"
  },
  "language_info": {
   "codemirror_mode": {
    "name": "ipython",
    "version": 3
   },
   "file_extension": ".py",
   "mimetype": "text/x-python",
   "name": "python",
   "nbconvert_exporter": "python",
   "pygments_lexer": "ipython3",
   "version": "3.8.16"
  }
 },
 "nbformat": 4,
 "nbformat_minor": 5
}
